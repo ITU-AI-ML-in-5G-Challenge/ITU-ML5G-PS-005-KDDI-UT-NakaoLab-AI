{
 "cells": [
  {
   "cell_type": "markdown",
   "metadata": {},
   "source": [
    "# ITU-ML5G-PS-005-KDDI Evaluate Notebook"
   ]
  },
  {
   "cell_type": "code",
   "execution_count": null,
   "metadata": {},
   "outputs": [],
   "source": [
    "from google.colab import drive\n",
    "drive.mount('/content/drive', force_remount=True)"
   ]
  },
  {
   "cell_type": "code",
   "execution_count": null,
   "metadata": {},
   "outputs": [],
   "source": [
    "# please change your path\n",
    "cd /content/drive/MyDrive/your/path/ITU-ML5G-PS-005-KDDI-UT-NakaoLab-AI"
   ]
  },
  {
   "cell_type": "markdown",
   "metadata": {},
   "source": [
    "# Data Load and Preprocess"
   ]
  },
  {
   "cell_type": "code",
   "execution_count": null,
   "metadata": {},
   "outputs": [],
   "source": [
    "import gc\n",
    "import numpy as np\n",
    "import pandas as pd\n",
    "from tools.preprocessing import Processor\n",
    "from tools.generator import ReccurentTestGenerator\n",
    "from tools.metrics import Evaluation\n",
    "import os"
   ]
  },
  {
   "cell_type": "markdown",
   "metadata": {},
   "source": [
    "Please change training mode \n",
    "- If you want to evaluate the model with all metrics, set training mode to all.\n",
    "- If you want to remove 0 metrics and evaluate the model, set training mode to removed.\n",
    "- If you want to evaluate a model using differences, set training mode to diff.\n",
    "- If you want to evaluate a model using feature importance, set training mode to RF and set  metrics num to the number of features you want to use"
   ]
  },
  {
   "cell_type": "code",
   "execution_count": null,
   "metadata": {},
   "outputs": [],
   "source": [
    "training_mode = \"all\""
   ]
  },
  {
   "cell_type": "code",
   "execution_count": null,
   "metadata": {},
   "outputs": [],
   "source": [
    "train_0 = pd.read_csv('data/ML5G-PS-005_train_0.csv', index_col=0, header=0)\n",
    "train_1 = pd.read_csv('data/ML5G-PS-005_train_1.csv', index_col=0, header=0)\n",
    "train_2 = pd.read_csv('data/ML5G-PS-005_train_2.csv', index_col=0, header=0)\n",
    "train_3 = pd.read_csv('data/ML5G-PS-005_train_3.csv', index_col=0, header=0)\n",
    "train_4 = pd.read_csv('data/ML5G-PS-005_train_4.csv', index_col=0, header=0)\n",
    "train_5 = pd.read_csv('data/ML5G-PS-005_train_5.csv', index_col=0, header=0)\n",
    "train_data = pd.concat([train_0, train_1, train_2, train_3, train_4, train_5])\n",
    "del train_0, train_1, train_2, train_3, train_4, train_5\n",
    "\n",
    "test_0 = pd.read_csv('data/ML5G-PS-005_test_0.csv', index_col=0, header=0)\n",
    "test_1 = pd.read_csv('data/ML5G-PS-005_test_1.csv', index_col=0, header=0)\n",
    "test_2 = pd.read_csv('data/ML5G-PS-005_test_2.csv', index_col=0, header=0)\n",
    "test_data = pd.concat([test_0, test_1, test_2])\n",
    "del test_0, test_1, test_2\n",
    "gc.collect()"
   ]
  },
  {
   "cell_type": "code",
   "execution_count": null,
   "metadata": {},
   "outputs": [],
   "source": [
    "preprocessor = Processor(train_data, test_data)"
   ]
  },
  {
   "cell_type": "code",
   "execution_count": null,
   "metadata": {},
   "outputs": [],
   "source": [
    "if training_mode == 'all':\n",
    "  X, Y, test_X, test_Y = preprocessor.get_scaled_data()\n",
    "elif training_mode == 'removed':\n",
    "  X, Y, test_X, test_Y = preprocessor.get_removed_data()\n",
    "elif training_mode == 'diff':\n",
    "  X, Y, test_X, test_Y = preprocessor.get_diff_data()\n",
    "test_labels = preprocessor.test_label.values"
   ]
  },
  {
   "cell_type": "markdown",
   "metadata": {},
   "source": [
    "# Evaluate"
   ]
  },
  {
   "cell_type": "markdown",
   "metadata": {},
   "source": [
    "By changing timesteps and delay, you can specify the detection time.\n",
    "\n",
    "- timesteps is the input sequence size.\n",
    "- delay represents detection time _t_.\n",
    "\n",
    "The sum of timesteps adn delay should not exceed 60 because the total represents the first time of output. \n",
    "\n",
    "Combination of timesteps and delay\n",
    "\n",
    "- timesteps : 15, delay : 35\n",
    "- timesteps : 15, delay : 40\n",
    "- timesteps : 15, delay : 45\n",
    "- timesteps : 14, delay : 46\n",
    "- timesteps : 13, delay : 47\n",
    "- timesteps : 12, delay : 48"
   ]
  },
  {
   "cell_type": "code",
   "execution_count": null,
   "metadata": {},
   "outputs": [],
   "source": [
    "timesteps = 15\n",
    "delay = 45\n",
    "batch_size = 64"
   ]
  },
  {
   "cell_type": "code",
   "execution_count": null,
   "metadata": {},
   "outputs": [],
   "source": [
    "test_generator = ReccurentTestGenerator(test_X, batch_size, timesteps, delay)"
   ]
  },
  {
   "cell_type": "code",
   "execution_count": null,
   "metadata": {},
   "outputs": [],
   "source": [
    "# Please change delay to metrics_num if you train RF model\n",
    "model = keras.models.load_model('models/'+training_mode+'/LSTM_ITU_'+str(delay))"
   ]
  },
  {
   "cell_type": "code",
   "execution_count": null,
   "metadata": {},
   "outputs": [],
   "source": [
    "pred = model.predict(test_generator)\n",
    "pred = pred.reshape(300, -1)"
   ]
  },
  {
   "cell_type": "code",
   "execution_count": null,
   "metadata": {},
   "outputs": [],
   "source": [
    "test_Y = test_Y.values.reshape(300, -1)"
   ]
  },
  {
   "cell_type": "code",
   "execution_count": null,
   "metadata": {},
   "outputs": [],
   "source": [
    "evaluation = Evaluation(pred, test_Y, test_labels, timesteps, delay, threshold=0.3)"
   ]
  },
  {
   "cell_type": "code",
   "execution_count": null,
   "metadata": {},
   "outputs": [],
   "source": [
    "evaluation.score()"
   ]
  },
  {
   "cell_type": "code",
   "execution_count": null,
   "metadata": {},
   "outputs": [],
   "source": [
    "evaluation.MSE()"
   ]
  },
  {
   "cell_type": "code",
   "execution_count": null,
   "metadata": {},
   "outputs": [],
   "source": [
    "evaluation.visualization()"
   ]
  }
 ],
 "metadata": {
  "kernelspec": {
   "display_name": "Python 3.8.14 ('itu')",
   "language": "python",
   "name": "python3"
  },
  "language_info": {
   "name": "python",
   "version": "3.8.14"
  },
  "orig_nbformat": 4,
  "vscode": {
   "interpreter": {
    "hash": "8dc66cd46288bf67551a4ed1959ce21adb5976e8a964316fd508169fdc8169a5"
   }
  }
 },
 "nbformat": 4,
 "nbformat_minor": 2
}
