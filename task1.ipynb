{
 "cells": [
  {
   "cell_type": "markdown",
   "metadata": {},
   "source": [
    "# ITU-ML5G-PS-005-KDDI"
   ]
  },
  {
   "cell_type": "code",
   "execution_count": 2,
   "metadata": {},
   "outputs": [],
   "source": [
    "import gc\n",
    "import numpy as np\n",
    "import pandas as pd\n",
    "from tools.preprocessing import Processor\n",
    "from tools.generator import ReccurentTrainingGenerator, ReccurentTestGenerator"
   ]
  },
  {
   "cell_type": "markdown",
   "metadata": {},
   "source": [
    "# Load data"
   ]
  },
  {
   "cell_type": "code",
   "execution_count": 3,
   "metadata": {},
   "outputs": [
    {
     "data": {
      "text/plain": [
       "0"
      ]
     },
     "execution_count": 3,
     "metadata": {},
     "output_type": "execute_result"
    }
   ],
   "source": [
    "train_0 = pd.read_csv('data/ML5G-PS-005_train_0.csv', index_col=0, header=0)\n",
    "train_1 = pd.read_csv('data/ML5G-PS-005_train_1.csv', index_col=0, header=0)\n",
    "train_2 = pd.read_csv('data/ML5G-PS-005_train_2.csv', index_col=0, header=0)\n",
    "train_3 = pd.read_csv('data/ML5G-PS-005_train_3.csv', index_col=0, header=0)\n",
    "train_4 = pd.read_csv('data/ML5G-PS-005_train_4.csv', index_col=0, header=0)\n",
    "train_5 = pd.read_csv('data/ML5G-PS-005_train_5.csv', index_col=0, header=0)\n",
    "train_data = pd.concat([train_0, train_1, train_2, train_3, train_4, train_5])\n",
    "del train_0, train_1, train_2, train_3, train_4, train_5\n",
    "\n",
    "test_0 = pd.read_csv('data/ML5G-PS-005_test_0.csv', index_col=0, header=0)\n",
    "test_1 = pd.read_csv('data/ML5G-PS-005_test_1.csv', index_col=0, header=0)\n",
    "test_2 = pd.read_csv('data/ML5G-PS-005_test_2.csv', index_col=0, header=0)\n",
    "test_data = pd.concat([test_0, test_1, test_2])\n",
    "del test_0, test_1, test_2\n",
    "gc.collect()"
   ]
  },
  {
   "cell_type": "markdown",
   "metadata": {},
   "source": [
    "# Preprocess"
   ]
  },
  {
   "cell_type": "code",
   "execution_count": 9,
   "metadata": {},
   "outputs": [],
   "source": [
    "preprocessor = Processor(train_data, test_data)"
   ]
  },
  {
   "cell_type": "code",
   "execution_count": 10,
   "metadata": {},
   "outputs": [],
   "source": [
    "X, Y, test_X, test_Y = preprocessor.get_scaled_data()\n",
    "test_labels = preprocessor.test_label"
   ]
  },
  {
   "cell_type": "markdown",
   "metadata": {},
   "source": [
    "# Train"
   ]
  },
  {
   "cell_type": "code",
   "execution_count": 7,
   "metadata": {},
   "outputs": [],
   "source": [
    "import tensorflow as tf\n",
    "from tensorflow.keras.layers import Input, Dense, LSTM, Dropout\n",
    "from tensorflow.keras.models import Model\n",
    "from tensorflow.keras.optimizers import Adam"
   ]
  },
  {
   "cell_type": "code",
   "execution_count": 10,
   "metadata": {},
   "outputs": [],
   "source": [
    "timesteps = 15\n",
    "delay = 45\n",
    "batch_size = 64\n",
    "input_dim = X.shape[-1]"
   ]
  },
  {
   "cell_type": "code",
   "execution_count": 11,
   "metadata": {},
   "outputs": [
    {
     "name": "stdout",
     "output_type": "stream",
     "text": [
      "Metal device set to: Apple M1 Pro\n",
      "\n",
      "systemMemory: 16.00 GB\n",
      "maxCacheSize: 5.33 GB\n",
      "\n"
     ]
    },
    {
     "name": "stderr",
     "output_type": "stream",
     "text": [
      "2022-11-22 03:06:29.395250: I tensorflow/core/common_runtime/pluggable_device/pluggable_device_factory.cc:305] Could not identify NUMA node of platform GPU ID 0, defaulting to 0. Your kernel may not have been built with NUMA support.\n",
      "2022-11-22 03:06:29.395471: I tensorflow/core/common_runtime/pluggable_device/pluggable_device_factory.cc:271] Created TensorFlow device (/job:localhost/replica:0/task:0/device:GPU:0 with 0 MB memory) -> physical PluggableDevice (device: 0, name: METAL, pci bus id: <undefined>)\n"
     ]
    },
    {
     "ename": "",
     "evalue": "",
     "output_type": "error",
     "traceback": [
      "\u001b[1;31m現在のセルまたは前のセルでコードを実行中に、カーネルがクラッシュしました。エラーの原因を特定するには、セル内のコードを確認してください。詳細については、<a href='https://aka.ms/vscodeJupyterKernelCrash'>こちら</a> をクリックしてください。さらなる詳細については、Jupyter [log] (command:jupyter.viewOutput) を参照してください。"
     ]
    },
    {
     "ename": "",
     "evalue": "",
     "output_type": "error",
     "traceback": [
      "\u001b[1;31mCanceled future for execute_request message before replies were done"
     ]
    }
   ],
   "source": [
    "input = Input(shape=(timesteps, input_dim))\n",
    "lstm = LSTM(256, input_shape=(timesteps, input_dim), return_sequences=True)(input)\n",
    "lstm = LSTM(256)(lstm)\n",
    "dropout = Dropout(0.5)(lstm)\n",
    "dense = Dense(1)(dropout)\n",
    "model = Model(inputs=input, outputs=dense)\n",
    "model.compile(loss='mean_squared_error', optimizer='adam')\n",
    "model.summary()"
   ]
  },
  {
   "cell_type": "code",
   "execution_count": null,
   "metadata": {},
   "outputs": [],
   "source": [
    "train_X = X[:500*70]\n",
    "train_Y = Y[:500*70]\n",
    "val_X = X[500*70:]\n",
    "val_Y = Y[500*70:]"
   ]
  },
  {
   "cell_type": "code",
   "execution_count": null,
   "metadata": {},
   "outputs": [],
   "source": [
    "train_generator = ReccurentTrainingGenerator(train_X, train_Y, batch_size, timesteps, delay)\n",
    "val_generator = ReccurentTrainingGenerator(val_X, val_Y, batch_size, timesteps, delay)"
   ]
  },
  {
   "cell_type": "code",
   "execution_count": null,
   "metadata": {},
   "outputs": [],
   "source": [
    "callback = tf.keras.callbacks.EarlyStopping(monitor='val_loss', patience=3)"
   ]
  },
  {
   "cell_type": "code",
   "execution_count": null,
   "metadata": {},
   "outputs": [],
   "source": [
    "history = model.fit(x=train_generator, epochs=250, verbose=1, callbacks=callback, validation_data=val_generator)"
   ]
  },
  {
   "cell_type": "code",
   "execution_count": null,
   "metadata": {},
   "outputs": [],
   "source": []
  }
 ],
 "metadata": {
  "kernelspec": {
   "display_name": "Python 3.9.13 ('itu')",
   "language": "python",
   "name": "python3"
  },
  "language_info": {
   "codemirror_mode": {
    "name": "ipython",
    "version": 3
   },
   "file_extension": ".py",
   "mimetype": "text/x-python",
   "name": "python",
   "nbconvert_exporter": "python",
   "pygments_lexer": "ipython3",
   "version": "3.9.13"
  },
  "orig_nbformat": 4,
  "vscode": {
   "interpreter": {
    "hash": "8dc66cd46288bf67551a4ed1959ce21adb5976e8a964316fd508169fdc8169a5"
   }
  }
 },
 "nbformat": 4,
 "nbformat_minor": 2
}
