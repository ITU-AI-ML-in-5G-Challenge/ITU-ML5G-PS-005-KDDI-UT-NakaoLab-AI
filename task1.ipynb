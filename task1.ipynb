{
 "cells": [
  {
   "cell_type": "markdown",
   "metadata": {},
   "source": [
    "# ITU-ML5G-PS-005-KDDI"
   ]
  },
  {
   "cell_type": "code",
   "execution_count": 1,
   "metadata": {},
   "outputs": [
    {
     "name": "stderr",
     "output_type": "stream",
     "text": [
      "2022-11-22 04:52:12.624815: I tensorflow/core/util/util.cc:169] oneDNN custom operations are on. You may see slightly different numerical results due to floating-point round-off errors from different computation orders. To turn them off, set the environment variable `TF_ENABLE_ONEDNN_OPTS=0`.\n",
      "2022-11-22 04:52:12.627715: W tensorflow/stream_executor/platform/default/dso_loader.cc:64] Could not load dynamic library 'libcudart.so.11.0'; dlerror: libcudart.so.11.0: cannot open shared object file: No such file or directory\n",
      "2022-11-22 04:52:12.627725: I tensorflow/stream_executor/cuda/cudart_stub.cc:29] Ignore above cudart dlerror if you do not have a GPU set up on your machine.\n"
     ]
    }
   ],
   "source": [
    "import gc\n",
    "import numpy as np\n",
    "import pandas as pd\n",
    "from tools.preprocessing import Processor\n",
    "from tools.generator import ReccurentTrainingGenerator, ReccurentTestGenerator"
   ]
  },
  {
   "cell_type": "markdown",
   "metadata": {},
   "source": [
    "# Load data"
   ]
  },
  {
   "cell_type": "code",
   "execution_count": 2,
   "metadata": {},
   "outputs": [
    {
     "data": {
      "text/plain": [
       "0"
      ]
     },
     "execution_count": 2,
     "metadata": {},
     "output_type": "execute_result"
    }
   ],
   "source": [
    "train_0 = pd.read_csv('data/ML5G-PS-005_train_0.csv', index_col=0, header=0)\n",
    "train_1 = pd.read_csv('data/ML5G-PS-005_train_1.csv', index_col=0, header=0)\n",
    "train_2 = pd.read_csv('data/ML5G-PS-005_train_2.csv', index_col=0, header=0)\n",
    "train_3 = pd.read_csv('data/ML5G-PS-005_train_3.csv', index_col=0, header=0)\n",
    "train_4 = pd.read_csv('data/ML5G-PS-005_train_4.csv', index_col=0, header=0)\n",
    "train_5 = pd.read_csv('data/ML5G-PS-005_train_5.csv', index_col=0, header=0)\n",
    "train_data = pd.concat([train_0, train_1, train_2, train_3, train_4, train_5])\n",
    "del train_0, train_1, train_2, train_3, train_4, train_5\n",
    "\n",
    "test_0 = pd.read_csv('data/ML5G-PS-005_test_0.csv', index_col=0, header=0)\n",
    "test_1 = pd.read_csv('data/ML5G-PS-005_test_1.csv', index_col=0, header=0)\n",
    "test_2 = pd.read_csv('data/ML5G-PS-005_test_2.csv', index_col=0, header=0)\n",
    "test_data = pd.concat([test_0, test_1, test_2])\n",
    "del test_0, test_1, test_2\n",
    "gc.collect()"
   ]
  },
  {
   "cell_type": "markdown",
   "metadata": {},
   "source": [
    "# Preprocess"
   ]
  },
  {
   "cell_type": "code",
   "execution_count": 3,
   "metadata": {},
   "outputs": [],
   "source": [
    "preprocessor = Processor(train_data, test_data)"
   ]
  },
  {
   "cell_type": "code",
   "execution_count": 4,
   "metadata": {},
   "outputs": [],
   "source": [
    "X, Y, test_X, test_Y = preprocessor.get_scaled_data()\n",
    "test_labels = preprocessor.test_label.values"
   ]
  },
  {
   "cell_type": "markdown",
   "metadata": {},
   "source": [
    "# Train"
   ]
  },
  {
   "cell_type": "code",
   "execution_count": 5,
   "metadata": {},
   "outputs": [],
   "source": [
    "import tensorflow as tf\n",
    "from tensorflow.keras.layers import Input, Dense, LSTM, Dropout\n",
    "from tensorflow.keras.models import Model\n",
    "from tensorflow.keras.optimizers import Adam"
   ]
  },
  {
   "cell_type": "code",
   "execution_count": 6,
   "metadata": {},
   "outputs": [],
   "source": [
    "timesteps = 15\n",
    "delay = 45\n",
    "batch_size = 64\n",
    "input_dim = X.shape[-1]"
   ]
  },
  {
   "cell_type": "code",
   "execution_count": 7,
   "metadata": {},
   "outputs": [
    {
     "name": "stderr",
     "output_type": "stream",
     "text": [
      "2022-11-22 04:52:30.346540: W tensorflow/stream_executor/platform/default/dso_loader.cc:64] Could not load dynamic library 'libcuda.so.1'; dlerror: libcuda.so.1: cannot open shared object file: No such file or directory\n",
      "2022-11-22 04:52:30.346560: W tensorflow/stream_executor/cuda/cuda_driver.cc:269] failed call to cuInit: UNKNOWN ERROR (303)\n",
      "2022-11-22 04:52:30.346574: I tensorflow/stream_executor/cuda/cuda_diagnostics.cc:156] kernel driver does not appear to be running on this host (hakiitakeru-XPS-13-9305): /proc/driver/nvidia/version does not exist\n",
      "2022-11-22 04:52:30.346818: I tensorflow/core/platform/cpu_feature_guard.cc:193] This TensorFlow binary is optimized with oneAPI Deep Neural Network Library (oneDNN) to use the following CPU instructions in performance-critical operations:  AVX2 AVX512F AVX512_VNNI FMA\n",
      "To enable them in other operations, rebuild TensorFlow with the appropriate compiler flags.\n"
     ]
    },
    {
     "name": "stdout",
     "output_type": "stream",
     "text": [
      "Model: \"model\"\n",
      "_________________________________________________________________\n",
      " Layer (type)                Output Shape              Param #   \n",
      "=================================================================\n",
      " input_1 (InputLayer)        [(None, 15, 3325)]        0         \n",
      "                                                                 \n",
      " lstm (LSTM)                 (None, 15, 256)           3667968   \n",
      "                                                                 \n",
      " lstm_1 (LSTM)               (None, 256)               525312    \n",
      "                                                                 \n",
      " dropout (Dropout)           (None, 256)               0         \n",
      "                                                                 \n",
      " dense (Dense)               (None, 1)                 257       \n",
      "                                                                 \n",
      "=================================================================\n",
      "Total params: 4,193,537\n",
      "Trainable params: 4,193,537\n",
      "Non-trainable params: 0\n",
      "_________________________________________________________________\n"
     ]
    }
   ],
   "source": [
    "input = Input(shape=(timesteps, input_dim))\n",
    "lstm = LSTM(256, input_shape=(timesteps, input_dim), return_sequences=True)(input)\n",
    "lstm = LSTM(256)(lstm)\n",
    "dropout = Dropout(0.5)(lstm)\n",
    "dense = Dense(1)(dropout)\n",
    "model = Model(inputs=input, outputs=dense)\n",
    "model.compile(loss='mean_squared_error', optimizer='adam')\n",
    "model.summary()"
   ]
  },
  {
   "cell_type": "code",
   "execution_count": 8,
   "metadata": {},
   "outputs": [],
   "source": [
    "train_X = X[:500*70]\n",
    "train_Y = Y[:500*70]\n",
    "val_X = X[500*70:]\n",
    "val_Y = Y[500*70:]"
   ]
  },
  {
   "cell_type": "code",
   "execution_count": 9,
   "metadata": {},
   "outputs": [],
   "source": [
    "train_generator = ReccurentTrainingGenerator(train_X, train_Y, batch_size, timesteps, delay)\n",
    "val_generator = ReccurentTrainingGenerator(val_X, val_Y, batch_size, timesteps, delay)"
   ]
  },
  {
   "cell_type": "code",
   "execution_count": 10,
   "metadata": {},
   "outputs": [],
   "source": [
    "callback = tf.keras.callbacks.EarlyStopping(monitor='val_loss', patience=3)"
   ]
  },
  {
   "cell_type": "code",
   "execution_count": 88,
   "metadata": {},
   "outputs": [
    {
     "name": "stdout",
     "output_type": "stream",
     "text": [
      "Epoch 1/250\n",
      "79/79 [==============================] - 7s 93ms/step - loss: 0.0027 - val_loss: 0.0018\n",
      "Epoch 2/250\n",
      "79/79 [==============================] - 7s 84ms/step - loss: 0.0027 - val_loss: 0.0018\n",
      "Epoch 3/250\n",
      "79/79 [==============================] - 7s 85ms/step - loss: 0.0027 - val_loss: 0.0021\n",
      "Epoch 4/250\n",
      "79/79 [==============================] - 7s 89ms/step - loss: 0.0029 - val_loss: 0.0022\n"
     ]
    }
   ],
   "source": [
    "history = model.fit(x=train_generator, epochs=250, verbose=1, callbacks=callback, validation_data=val_generator)"
   ]
  },
  {
   "cell_type": "markdown",
   "metadata": {},
   "source": [
    "# Evaluation"
   ]
  },
  {
   "cell_type": "code",
   "execution_count": 108,
   "metadata": {},
   "outputs": [],
   "source": [
    "from tools.metrics import Evaluation\n",
    "import matplotlib.pyplot as plt\n",
    "from matplotlib.pylab import rcParams\n",
    "from sklearn import metrics\n",
    "\n",
    "rcParams['figure.figsize'] = 15, 6"
   ]
  },
  {
   "cell_type": "code",
   "execution_count": 90,
   "metadata": {},
   "outputs": [],
   "source": [
    "test_generator = ReccurentTestGenerator(test_X, batch_size, timesteps, delay)"
   ]
  },
  {
   "cell_type": "code",
   "execution_count": 91,
   "metadata": {},
   "outputs": [
    {
     "name": "stdout",
     "output_type": "stream",
     "text": [
      "47/47 [==============================] - 2s 35ms/step\n"
     ]
    }
   ],
   "source": [
    "pred = model.predict(test_generator)\n",
    "pred = pred.reshape(300, -1)"
   ]
  },
  {
   "cell_type": "code",
   "execution_count": 103,
   "metadata": {},
   "outputs": [],
   "source": [
    "test_Y = test_Y.reshape(300, -1)"
   ]
  },
  {
   "cell_type": "code",
   "execution_count": 104,
   "metadata": {},
   "outputs": [],
   "source": [
    "evaluation = Evaluation(pred, test_Y, test_labels, timesteps, delay)"
   ]
  },
  {
   "cell_type": "code",
   "execution_count": 105,
   "metadata": {},
   "outputs": [
    {
     "data": {
      "text/plain": [
       "nan"
      ]
     },
     "execution_count": 105,
     "metadata": {},
     "output_type": "execute_result"
    }
   ],
   "source": [
    "evaluation.MSE()"
   ]
  },
  {
   "cell_type": "code",
   "execution_count": 111,
   "metadata": {},
   "outputs": [
    {
     "data": {
      "image/png": "[encoded data removed]",
      "text/plain": [
       "<Figure size 1500x600 with 1 Axes>"
      ]
     },
     "metadata": {},
     "output_type": "display_data"
    }
   ],
   "source": [
    "test_vis = test_Y[-20:-10]\n",
    "pred_vis = pred[-20:-10]\n",
    "x = np.arange(len(test_vis.flatten()))\n",
    "fig, ax = plt.subplots(figsize=(15, 6))\n",
    "ax.plot(x, test_vis.flatten(), label='y_test')\n",
    "for i in range(len(pred_vis)):\n",
    "    if i==0:\n",
    "        ax.plot(x[i*70+timesteps+delay:(i+1)*70], pred_vis[i], label='y_pred', c='r')\n",
    "    else:\n",
    "        ax.plot(x[i*70+timesteps+delay:(i+1)*70], pred_vis[i], c='r')\n",
    "ax.legend()\n",
    "plt.show()"
   ]
  },
  {
   "cell_type": "code",
   "execution_count": 19,
   "metadata": {},
   "outputs": [
    {
     "data": {
      "text/plain": [
       "array([0.03205338, 0.02415584, 0.02979235, ..., 0.03985957, 0.03821138,\n",
       "       0.04191187], dtype=float32)"
      ]
     },
     "execution_count": 19,
     "metadata": {},
     "output_type": "execute_result"
    }
   ],
   "source": [
    "pred.flatten()"
   ]
  },
  {
   "cell_type": "code",
   "execution_count": 28,
   "metadata": {},
   "outputs": [
    {
     "data": {
      "text/plain": [
       "nan"
      ]
     },
     "execution_count": 28,
     "metadata": {},
     "output_type": "execute_result"
    }
   ],
   "source": [
    "pred_fla = pred.flatten()\n",
    "test_fla = test_Y[:,timesteps+delay:].flatten()\n",
    "sum((pred_fla - test_fla)**2)/len(pred_fla)"
   ]
  },
  {
   "cell_type": "code",
   "execution_count": 40,
   "metadata": {},
   "outputs": [
    {
     "data": {
      "text/plain": [
       "(3000,)"
      ]
     },
     "execution_count": 40,
     "metadata": {},
     "output_type": "execute_result"
    }
   ],
   "source": [
    "pred_fla.shape"
   ]
  },
  {
   "cell_type": "code",
   "execution_count": 41,
   "metadata": {},
   "outputs": [
    {
     "data": {
      "text/plain": [
       "(3000,)"
      ]
     },
     "execution_count": 41,
     "metadata": {},
     "output_type": "execute_result"
    }
   ],
   "source": [
    "test_fla.shape"
   ]
  },
  {
   "cell_type": "code",
   "execution_count": 43,
   "metadata": {},
   "outputs": [
    {
     "data": {
      "text/plain": [
       "True"
      ]
     },
     "execution_count": 43,
     "metadata": {},
     "output_type": "execute_result"
    }
   ],
   "source": [
    "np.isnan(pred_fla).any()"
   ]
  },
  {
   "cell_type": "code",
   "execution_count": 48,
   "metadata": {},
   "outputs": [
    {
     "data": {
      "text/plain": [
       "True"
      ]
     },
     "execution_count": 48,
     "metadata": {},
     "output_type": "execute_result"
    }
   ],
   "source": [
    "np.isnan(pred).any()"
   ]
  },
  {
   "cell_type": "code",
   "execution_count": 46,
   "metadata": {},
   "outputs": [
    {
     "data": {
      "text/plain": [
       "(300, 10)"
      ]
     },
     "execution_count": 46,
     "metadata": {},
     "output_type": "execute_result"
    }
   ],
   "source": [
    "pred.shape"
   ]
  },
  {
   "cell_type": "code",
   "execution_count": 96,
   "metadata": {},
   "outputs": [
    {
     "data": {
      "text/plain": [
       "array([ True,  True,  True,  True,  True,  True,  True,  True,  True,\n",
       "        True])"
      ]
     },
     "execution_count": 96,
     "metadata": {},
     "output_type": "execute_result"
    }
   ],
   "source": [
    "np.isnan(pred)[-42,:]"
   ]
  },
  {
   "cell_type": "code",
   "execution_count": 102,
   "metadata": {},
   "outputs": [
    {
     "data": {
      "text/html": [
       "<div>\n",
       "<style scoped>\n",
       "    .dataframe tbody tr th:only-of-type {\n",
       "        vertical-align: middle;\n",
       "    }\n",
       "\n",
       "    .dataframe tbody tr th {\n",
       "        vertical-align: top;\n",
       "    }\n",
       "\n",
       "    .dataframe thead th {\n",
       "        text-align: right;\n",
       "    }\n",
       "</style>\n",
       "<table border=\"1\" class=\"dataframe\">\n",
       "  <thead>\n",
       "    <tr style=\"text-align: right;\">\n",
       "      <th></th>\n",
       "      <th>amf.amf.app.cadvisor.container_cpu_cfs_periods</th>\n",
       "      <th>amf.amf.app.cadvisor.container_cpu_cfs_throttled_periods</th>\n",
       "      <th>amf.amf.app.cadvisor.container_cpu_cfs_throttled_seconds</th>\n",
       "      <th>amf.amf.app.cadvisor.container_cpu_system_seconds</th>\n",
       "      <th>amf.amf.app.cadvisor.container_cpu_usage_seconds</th>\n",
       "      <th>amf.amf.app.cadvisor.container_cpu_user_seconds</th>\n",
       "      <th>amf.amf.app.cadvisor.container_last_seen</th>\n",
       "      <th>amf.amf.app.cadvisor.container_memory_cache</th>\n",
       "      <th>amf.amf.app.cadvisor.container_memory_failcnt</th>\n",
       "      <th>amf.amf.app.cadvisor.container_memory_failures</th>\n",
       "      <th>...</th>\n",
       "      <th>upf.upf3.infra.tcpstates._::ffff:10.244.0.1_LAST_ACK_CLOSE.usec.avg</th>\n",
       "      <th>upf.upf3.infra.tcpstates._::ffff:10.244.0.1_LAST_ACK_CLOSE.usec.max</th>\n",
       "      <th>upf.upf3.infra.tcpstates._::ffff:10.244.0.1_LAST_ACK_CLOSE.usec.med</th>\n",
       "      <th>upf.upf3.infra.tcpstates._::ffff:10.244.0.1_LAST_ACK_CLOSE.usec.min</th>\n",
       "      <th>upf.upf3.infra.tcpstates._::ffff:10.244.0.1_SYN_RECV_ESTABLISHED.count</th>\n",
       "      <th>upf.upf3.infra.tcpstates._::ffff:10.244.0.1_SYN_RECV_ESTABLISHED.usec.avg</th>\n",
       "      <th>upf.upf3.infra.tcpstates._::ffff:10.244.0.1_SYN_RECV_ESTABLISHED.usec.max</th>\n",
       "      <th>upf.upf3.infra.tcpstates._::ffff:10.244.0.1_SYN_RECV_ESTABLISHED.usec.med</th>\n",
       "      <th>upf.upf3.infra.tcpstates._::ffff:10.244.0.1_SYN_RECV_ESTABLISHED.usec.min</th>\n",
       "      <th>upf.upf3.infra.tcptracer._192.168.13.70_connect.count</th>\n",
       "    </tr>\n",
       "  </thead>\n",
       "  <tbody>\n",
       "    <tr>\n",
       "      <th>17990</th>\n",
       "      <td>0.804518</td>\n",
       "      <td>0.0</td>\n",
       "      <td>0.0</td>\n",
       "      <td>0.629498</td>\n",
       "      <td>0.020208</td>\n",
       "      <td>0.514089</td>\n",
       "      <td>1.000633</td>\n",
       "      <td>0.990370</td>\n",
       "      <td>0.0</td>\n",
       "      <td>0.0</td>\n",
       "      <td>...</td>\n",
       "      <td>0.0</td>\n",
       "      <td>0.0</td>\n",
       "      <td>0.0</td>\n",
       "      <td>0.0</td>\n",
       "      <td>0.0</td>\n",
       "      <td>0.0</td>\n",
       "      <td>0.0</td>\n",
       "      <td>0.0</td>\n",
       "      <td>0.0</td>\n",
       "      <td>0.0</td>\n",
       "    </tr>\n",
       "    <tr>\n",
       "      <th>17991</th>\n",
       "      <td>0.832690</td>\n",
       "      <td>0.0</td>\n",
       "      <td>0.0</td>\n",
       "      <td>0.643079</td>\n",
       "      <td>0.000000</td>\n",
       "      <td>0.576497</td>\n",
       "      <td>1.000633</td>\n",
       "      <td>0.990388</td>\n",
       "      <td>0.0</td>\n",
       "      <td>0.0</td>\n",
       "      <td>...</td>\n",
       "      <td>0.0</td>\n",
       "      <td>0.0</td>\n",
       "      <td>0.0</td>\n",
       "      <td>0.0</td>\n",
       "      <td>0.0</td>\n",
       "      <td>0.0</td>\n",
       "      <td>0.0</td>\n",
       "      <td>0.0</td>\n",
       "      <td>0.0</td>\n",
       "      <td>0.0</td>\n",
       "    </tr>\n",
       "    <tr>\n",
       "      <th>17992</th>\n",
       "      <td>0.800481</td>\n",
       "      <td>0.0</td>\n",
       "      <td>0.0</td>\n",
       "      <td>0.534251</td>\n",
       "      <td>0.000000</td>\n",
       "      <td>0.583703</td>\n",
       "      <td>1.000633</td>\n",
       "      <td>0.990419</td>\n",
       "      <td>0.0</td>\n",
       "      <td>0.0</td>\n",
       "      <td>...</td>\n",
       "      <td>0.0</td>\n",
       "      <td>0.0</td>\n",
       "      <td>0.0</td>\n",
       "      <td>0.0</td>\n",
       "      <td>0.0</td>\n",
       "      <td>0.0</td>\n",
       "      <td>0.0</td>\n",
       "      <td>0.0</td>\n",
       "      <td>0.0</td>\n",
       "      <td>0.0</td>\n",
       "    </tr>\n",
       "    <tr>\n",
       "      <th>17993</th>\n",
       "      <td>0.766791</td>\n",
       "      <td>0.0</td>\n",
       "      <td>0.0</td>\n",
       "      <td>0.607140</td>\n",
       "      <td>0.000000</td>\n",
       "      <td>0.655716</td>\n",
       "      <td>1.000633</td>\n",
       "      <td>0.990432</td>\n",
       "      <td>0.0</td>\n",
       "      <td>0.0</td>\n",
       "      <td>...</td>\n",
       "      <td>0.0</td>\n",
       "      <td>0.0</td>\n",
       "      <td>0.0</td>\n",
       "      <td>0.0</td>\n",
       "      <td>0.0</td>\n",
       "      <td>0.0</td>\n",
       "      <td>0.0</td>\n",
       "      <td>0.0</td>\n",
       "      <td>0.0</td>\n",
       "      <td>0.0</td>\n",
       "    </tr>\n",
       "    <tr>\n",
       "      <th>17994</th>\n",
       "      <td>0.816125</td>\n",
       "      <td>0.0</td>\n",
       "      <td>0.0</td>\n",
       "      <td>0.598528</td>\n",
       "      <td>0.029536</td>\n",
       "      <td>0.523144</td>\n",
       "      <td>1.000633</td>\n",
       "      <td>0.990481</td>\n",
       "      <td>0.0</td>\n",
       "      <td>0.0</td>\n",
       "      <td>...</td>\n",
       "      <td>0.0</td>\n",
       "      <td>0.0</td>\n",
       "      <td>0.0</td>\n",
       "      <td>0.0</td>\n",
       "      <td>0.0</td>\n",
       "      <td>0.0</td>\n",
       "      <td>0.0</td>\n",
       "      <td>0.0</td>\n",
       "      <td>0.0</td>\n",
       "      <td>0.0</td>\n",
       "    </tr>\n",
       "    <tr>\n",
       "      <th>...</th>\n",
       "      <td>...</td>\n",
       "      <td>...</td>\n",
       "      <td>...</td>\n",
       "      <td>...</td>\n",
       "      <td>...</td>\n",
       "      <td>...</td>\n",
       "      <td>...</td>\n",
       "      <td>...</td>\n",
       "      <td>...</td>\n",
       "      <td>...</td>\n",
       "      <td>...</td>\n",
       "      <td>...</td>\n",
       "      <td>...</td>\n",
       "      <td>...</td>\n",
       "      <td>...</td>\n",
       "      <td>...</td>\n",
       "      <td>...</td>\n",
       "      <td>...</td>\n",
       "      <td>...</td>\n",
       "      <td>...</td>\n",
       "      <td>...</td>\n",
       "    </tr>\n",
       "    <tr>\n",
       "      <th>18055</th>\n",
       "      <td>0.816479</td>\n",
       "      <td>0.0</td>\n",
       "      <td>0.0</td>\n",
       "      <td>0.592344</td>\n",
       "      <td>0.018100</td>\n",
       "      <td>0.626298</td>\n",
       "      <td>1.000633</td>\n",
       "      <td>0.992423</td>\n",
       "      <td>0.0</td>\n",
       "      <td>0.0</td>\n",
       "      <td>...</td>\n",
       "      <td>0.0</td>\n",
       "      <td>0.0</td>\n",
       "      <td>0.0</td>\n",
       "      <td>0.0</td>\n",
       "      <td>0.0</td>\n",
       "      <td>0.0</td>\n",
       "      <td>0.0</td>\n",
       "      <td>0.0</td>\n",
       "      <td>0.0</td>\n",
       "      <td>0.0</td>\n",
       "    </tr>\n",
       "    <tr>\n",
       "      <th>18056</th>\n",
       "      <td>0.862403</td>\n",
       "      <td>0.0</td>\n",
       "      <td>0.0</td>\n",
       "      <td>0.714511</td>\n",
       "      <td>0.054241</td>\n",
       "      <td>0.637530</td>\n",
       "      <td>1.000633</td>\n",
       "      <td>0.992459</td>\n",
       "      <td>0.0</td>\n",
       "      <td>0.0</td>\n",
       "      <td>...</td>\n",
       "      <td>0.0</td>\n",
       "      <td>0.0</td>\n",
       "      <td>0.0</td>\n",
       "      <td>0.0</td>\n",
       "      <td>0.0</td>\n",
       "      <td>0.0</td>\n",
       "      <td>0.0</td>\n",
       "      <td>0.0</td>\n",
       "      <td>0.0</td>\n",
       "      <td>0.0</td>\n",
       "    </tr>\n",
       "    <tr>\n",
       "      <th>18057</th>\n",
       "      <td>0.822490</td>\n",
       "      <td>0.0</td>\n",
       "      <td>0.0</td>\n",
       "      <td>0.620430</td>\n",
       "      <td>0.052426</td>\n",
       "      <td>0.602542</td>\n",
       "      <td>1.000633</td>\n",
       "      <td>0.992481</td>\n",
       "      <td>0.0</td>\n",
       "      <td>0.0</td>\n",
       "      <td>...</td>\n",
       "      <td>0.0</td>\n",
       "      <td>0.0</td>\n",
       "      <td>0.0</td>\n",
       "      <td>0.0</td>\n",
       "      <td>0.0</td>\n",
       "      <td>0.0</td>\n",
       "      <td>0.0</td>\n",
       "      <td>0.0</td>\n",
       "      <td>0.0</td>\n",
       "      <td>0.0</td>\n",
       "    </tr>\n",
       "    <tr>\n",
       "      <th>18058</th>\n",
       "      <td>0.713523</td>\n",
       "      <td>0.0</td>\n",
       "      <td>0.0</td>\n",
       "      <td>0.510529</td>\n",
       "      <td>0.034861</td>\n",
       "      <td>0.633535</td>\n",
       "      <td>1.000633</td>\n",
       "      <td>0.992521</td>\n",
       "      <td>0.0</td>\n",
       "      <td>0.0</td>\n",
       "      <td>...</td>\n",
       "      <td>0.0</td>\n",
       "      <td>0.0</td>\n",
       "      <td>0.0</td>\n",
       "      <td>0.0</td>\n",
       "      <td>0.0</td>\n",
       "      <td>0.0</td>\n",
       "      <td>0.0</td>\n",
       "      <td>0.0</td>\n",
       "      <td>0.0</td>\n",
       "      <td>0.0</td>\n",
       "    </tr>\n",
       "    <tr>\n",
       "      <th>18059</th>\n",
       "      <td>0.841013</td>\n",
       "      <td>0.0</td>\n",
       "      <td>0.0</td>\n",
       "      <td>0.627110</td>\n",
       "      <td>0.136070</td>\n",
       "      <td>0.685158</td>\n",
       "      <td>1.000633</td>\n",
       "      <td>0.992547</td>\n",
       "      <td>0.0</td>\n",
       "      <td>0.0</td>\n",
       "      <td>...</td>\n",
       "      <td>0.0</td>\n",
       "      <td>0.0</td>\n",
       "      <td>0.0</td>\n",
       "      <td>0.0</td>\n",
       "      <td>0.0</td>\n",
       "      <td>0.0</td>\n",
       "      <td>0.0</td>\n",
       "      <td>0.0</td>\n",
       "      <td>0.0</td>\n",
       "      <td>0.0</td>\n",
       "    </tr>\n",
       "  </tbody>\n",
       "</table>\n",
       "<p>70 rows × 3325 columns</p>\n",
       "</div>"
      ],
      "text/plain": [
       "       amf.amf.app.cadvisor.container_cpu_cfs_periods  \\\n",
       "17990                                        0.804518   \n",
       "17991                                        0.832690   \n",
       "17992                                        0.800481   \n",
       "17993                                        0.766791   \n",
       "17994                                        0.816125   \n",
       "...                                               ...   \n",
       "18055                                        0.816479   \n",
       "18056                                        0.862403   \n",
       "18057                                        0.822490   \n",
       "18058                                        0.713523   \n",
       "18059                                        0.841013   \n",
       "\n",
       "       amf.amf.app.cadvisor.container_cpu_cfs_throttled_periods  \\\n",
       "17990                                                0.0          \n",
       "17991                                                0.0          \n",
       "17992                                                0.0          \n",
       "17993                                                0.0          \n",
       "17994                                                0.0          \n",
       "...                                                  ...          \n",
       "18055                                                0.0          \n",
       "18056                                                0.0          \n",
       "18057                                                0.0          \n",
       "18058                                                0.0          \n",
       "18059                                                0.0          \n",
       "\n",
       "       amf.amf.app.cadvisor.container_cpu_cfs_throttled_seconds  \\\n",
       "17990                                                0.0          \n",
       "17991                                                0.0          \n",
       "17992                                                0.0          \n",
       "17993                                                0.0          \n",
       "17994                                                0.0          \n",
       "...                                                  ...          \n",
       "18055                                                0.0          \n",
       "18056                                                0.0          \n",
       "18057                                                0.0          \n",
       "18058                                                0.0          \n",
       "18059                                                0.0          \n",
       "\n",
       "       amf.amf.app.cadvisor.container_cpu_system_seconds  \\\n",
       "17990                                           0.629498   \n",
       "17991                                           0.643079   \n",
       "17992                                           0.534251   \n",
       "17993                                           0.607140   \n",
       "17994                                           0.598528   \n",
       "...                                                  ...   \n",
       "18055                                           0.592344   \n",
       "18056                                           0.714511   \n",
       "18057                                           0.620430   \n",
       "18058                                           0.510529   \n",
       "18059                                           0.627110   \n",
       "\n",
       "       amf.amf.app.cadvisor.container_cpu_usage_seconds  \\\n",
       "17990                                          0.020208   \n",
       "17991                                          0.000000   \n",
       "17992                                          0.000000   \n",
       "17993                                          0.000000   \n",
       "17994                                          0.029536   \n",
       "...                                                 ...   \n",
       "18055                                          0.018100   \n",
       "18056                                          0.054241   \n",
       "18057                                          0.052426   \n",
       "18058                                          0.034861   \n",
       "18059                                          0.136070   \n",
       "\n",
       "       amf.amf.app.cadvisor.container_cpu_user_seconds  \\\n",
       "17990                                         0.514089   \n",
       "17991                                         0.576497   \n",
       "17992                                         0.583703   \n",
       "17993                                         0.655716   \n",
       "17994                                         0.523144   \n",
       "...                                                ...   \n",
       "18055                                         0.626298   \n",
       "18056                                         0.637530   \n",
       "18057                                         0.602542   \n",
       "18058                                         0.633535   \n",
       "18059                                         0.685158   \n",
       "\n",
       "       amf.amf.app.cadvisor.container_last_seen  \\\n",
       "17990                                  1.000633   \n",
       "17991                                  1.000633   \n",
       "17992                                  1.000633   \n",
       "17993                                  1.000633   \n",
       "17994                                  1.000633   \n",
       "...                                         ...   \n",
       "18055                                  1.000633   \n",
       "18056                                  1.000633   \n",
       "18057                                  1.000633   \n",
       "18058                                  1.000633   \n",
       "18059                                  1.000633   \n",
       "\n",
       "       amf.amf.app.cadvisor.container_memory_cache  \\\n",
       "17990                                     0.990370   \n",
       "17991                                     0.990388   \n",
       "17992                                     0.990419   \n",
       "17993                                     0.990432   \n",
       "17994                                     0.990481   \n",
       "...                                            ...   \n",
       "18055                                     0.992423   \n",
       "18056                                     0.992459   \n",
       "18057                                     0.992481   \n",
       "18058                                     0.992521   \n",
       "18059                                     0.992547   \n",
       "\n",
       "       amf.amf.app.cadvisor.container_memory_failcnt  \\\n",
       "17990                                            0.0   \n",
       "17991                                            0.0   \n",
       "17992                                            0.0   \n",
       "17993                                            0.0   \n",
       "17994                                            0.0   \n",
       "...                                              ...   \n",
       "18055                                            0.0   \n",
       "18056                                            0.0   \n",
       "18057                                            0.0   \n",
       "18058                                            0.0   \n",
       "18059                                            0.0   \n",
       "\n",
       "       amf.amf.app.cadvisor.container_memory_failures  ...  \\\n",
       "17990                                             0.0  ...   \n",
       "17991                                             0.0  ...   \n",
       "17992                                             0.0  ...   \n",
       "17993                                             0.0  ...   \n",
       "17994                                             0.0  ...   \n",
       "...                                               ...  ...   \n",
       "18055                                             0.0  ...   \n",
       "18056                                             0.0  ...   \n",
       "18057                                             0.0  ...   \n",
       "18058                                             0.0  ...   \n",
       "18059                                             0.0  ...   \n",
       "\n",
       "       upf.upf3.infra.tcpstates._::ffff:10.244.0.1_LAST_ACK_CLOSE.usec.avg  \\\n",
       "17990                                                0.0                     \n",
       "17991                                                0.0                     \n",
       "17992                                                0.0                     \n",
       "17993                                                0.0                     \n",
       "17994                                                0.0                     \n",
       "...                                                  ...                     \n",
       "18055                                                0.0                     \n",
       "18056                                                0.0                     \n",
       "18057                                                0.0                     \n",
       "18058                                                0.0                     \n",
       "18059                                                0.0                     \n",
       "\n",
       "       upf.upf3.infra.tcpstates._::ffff:10.244.0.1_LAST_ACK_CLOSE.usec.max  \\\n",
       "17990                                                0.0                     \n",
       "17991                                                0.0                     \n",
       "17992                                                0.0                     \n",
       "17993                                                0.0                     \n",
       "17994                                                0.0                     \n",
       "...                                                  ...                     \n",
       "18055                                                0.0                     \n",
       "18056                                                0.0                     \n",
       "18057                                                0.0                     \n",
       "18058                                                0.0                     \n",
       "18059                                                0.0                     \n",
       "\n",
       "       upf.upf3.infra.tcpstates._::ffff:10.244.0.1_LAST_ACK_CLOSE.usec.med  \\\n",
       "17990                                                0.0                     \n",
       "17991                                                0.0                     \n",
       "17992                                                0.0                     \n",
       "17993                                                0.0                     \n",
       "17994                                                0.0                     \n",
       "...                                                  ...                     \n",
       "18055                                                0.0                     \n",
       "18056                                                0.0                     \n",
       "18057                                                0.0                     \n",
       "18058                                                0.0                     \n",
       "18059                                                0.0                     \n",
       "\n",
       "       upf.upf3.infra.tcpstates._::ffff:10.244.0.1_LAST_ACK_CLOSE.usec.min  \\\n",
       "17990                                                0.0                     \n",
       "17991                                                0.0                     \n",
       "17992                                                0.0                     \n",
       "17993                                                0.0                     \n",
       "17994                                                0.0                     \n",
       "...                                                  ...                     \n",
       "18055                                                0.0                     \n",
       "18056                                                0.0                     \n",
       "18057                                                0.0                     \n",
       "18058                                                0.0                     \n",
       "18059                                                0.0                     \n",
       "\n",
       "       upf.upf3.infra.tcpstates._::ffff:10.244.0.1_SYN_RECV_ESTABLISHED.count  \\\n",
       "17990                                                0.0                        \n",
       "17991                                                0.0                        \n",
       "17992                                                0.0                        \n",
       "17993                                                0.0                        \n",
       "17994                                                0.0                        \n",
       "...                                                  ...                        \n",
       "18055                                                0.0                        \n",
       "18056                                                0.0                        \n",
       "18057                                                0.0                        \n",
       "18058                                                0.0                        \n",
       "18059                                                0.0                        \n",
       "\n",
       "       upf.upf3.infra.tcpstates._::ffff:10.244.0.1_SYN_RECV_ESTABLISHED.usec.avg  \\\n",
       "17990                                                0.0                           \n",
       "17991                                                0.0                           \n",
       "17992                                                0.0                           \n",
       "17993                                                0.0                           \n",
       "17994                                                0.0                           \n",
       "...                                                  ...                           \n",
       "18055                                                0.0                           \n",
       "18056                                                0.0                           \n",
       "18057                                                0.0                           \n",
       "18058                                                0.0                           \n",
       "18059                                                0.0                           \n",
       "\n",
       "       upf.upf3.infra.tcpstates._::ffff:10.244.0.1_SYN_RECV_ESTABLISHED.usec.max  \\\n",
       "17990                                                0.0                           \n",
       "17991                                                0.0                           \n",
       "17992                                                0.0                           \n",
       "17993                                                0.0                           \n",
       "17994                                                0.0                           \n",
       "...                                                  ...                           \n",
       "18055                                                0.0                           \n",
       "18056                                                0.0                           \n",
       "18057                                                0.0                           \n",
       "18058                                                0.0                           \n",
       "18059                                                0.0                           \n",
       "\n",
       "       upf.upf3.infra.tcpstates._::ffff:10.244.0.1_SYN_RECV_ESTABLISHED.usec.med  \\\n",
       "17990                                                0.0                           \n",
       "17991                                                0.0                           \n",
       "17992                                                0.0                           \n",
       "17993                                                0.0                           \n",
       "17994                                                0.0                           \n",
       "...                                                  ...                           \n",
       "18055                                                0.0                           \n",
       "18056                                                0.0                           \n",
       "18057                                                0.0                           \n",
       "18058                                                0.0                           \n",
       "18059                                                0.0                           \n",
       "\n",
       "       upf.upf3.infra.tcpstates._::ffff:10.244.0.1_SYN_RECV_ESTABLISHED.usec.min  \\\n",
       "17990                                                0.0                           \n",
       "17991                                                0.0                           \n",
       "17992                                                0.0                           \n",
       "17993                                                0.0                           \n",
       "17994                                                0.0                           \n",
       "...                                                  ...                           \n",
       "18055                                                0.0                           \n",
       "18056                                                0.0                           \n",
       "18057                                                0.0                           \n",
       "18058                                                0.0                           \n",
       "18059                                                0.0                           \n",
       "\n",
       "       upf.upf3.infra.tcptracer._192.168.13.70_connect.count  \n",
       "17990                                                0.0      \n",
       "17991                                                0.0      \n",
       "17992                                                0.0      \n",
       "17993                                                0.0      \n",
       "17994                                                0.0      \n",
       "...                                                  ...      \n",
       "18055                                                0.0      \n",
       "18056                                                0.0      \n",
       "18057                                                0.0      \n",
       "18058                                                0.0      \n",
       "18059                                                0.0      \n",
       "\n",
       "[70 rows x 3325 columns]"
      ]
     },
     "execution_count": 102,
     "metadata": {},
     "output_type": "execute_result"
    }
   ],
   "source": [
    "test_X[-43*70:-42*70]"
   ]
  },
  {
   "cell_type": "code",
   "execution_count": 101,
   "metadata": {},
   "outputs": [
    {
     "data": {
      "text/plain": [
       "array(['normal', 'normal', 'normal', ..., 'normal', 'normal', 'normal'],\n",
       "      dtype=object)"
      ]
     },
     "execution_count": 101,
     "metadata": {},
     "output_type": "execute_result"
    }
   ],
   "source": [
    "test_labels[-42*70:]"
   ]
  },
  {
   "cell_type": "code",
   "execution_count": null,
   "metadata": {},
   "outputs": [],
   "source": []
  }
 ],
 "metadata": {
  "kernelspec": {
   "display_name": "Python 3.8.10 ('ITU')",
   "language": "python",
   "name": "python3"
  },
  "language_info": {
   "codemirror_mode": {
    "name": "ipython",
    "version": 3
   },
   "file_extension": ".py",
   "mimetype": "text/x-python",
   "name": "python",
   "nbconvert_exporter": "python",
   "pygments_lexer": "ipython3",
   "version": "3.8.10"
  },
  "orig_nbformat": 4,
  "vscode": {
   "interpreter": {
    "hash": "1e6dd19b877841141df6ff1305662f41162255f8a8bd691184ad9e1651f69c62"
   }
  }
 },
 "nbformat": 4,
 "nbformat_minor": 2
}
