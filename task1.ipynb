{
 "cells": [
  {
   "cell_type": "markdown",
   "metadata": {},
   "source": [
    "# ITU-ML5G-PS-005-KDDI Task1"
   ]
  },
  {
   "cell_type": "code",
   "execution_count": 1,
   "metadata": {},
   "outputs": [
    {
     "name": "stderr",
     "output_type": "stream",
     "text": [
      "2022-11-22 06:35:36.088845: I tensorflow/core/util/util.cc:169] oneDNN custom operations are on. You may see slightly different numerical results due to floating-point round-off errors from different computation orders. To turn them off, set the environment variable `TF_ENABLE_ONEDNN_OPTS=0`.\n",
      "2022-11-22 06:35:36.092747: W tensorflow/stream_executor/platform/default/dso_loader.cc:64] Could not load dynamic library 'libcudart.so.11.0'; dlerror: libcudart.so.11.0: cannot open shared object file: No such file or directory\n",
      "2022-11-22 06:35:36.092763: I tensorflow/stream_executor/cuda/cudart_stub.cc:29] Ignore above cudart dlerror if you do not have a GPU set up on your machine.\n"
     ]
    }
   ],
   "source": [
    "import gc\n",
    "import numpy as np\n",
    "import pandas as pd\n",
    "from tools.preprocessing import Processor\n",
    "from tools.generator import ReccurentTrainingGenerator, ReccurentTestGenerator"
   ]
  },
  {
   "cell_type": "markdown",
   "metadata": {},
   "source": [
    "# Load data"
   ]
  },
  {
   "cell_type": "code",
   "execution_count": 2,
   "metadata": {},
   "outputs": [
    {
     "data": {
      "text/plain": [
       "0"
      ]
     },
     "execution_count": 2,
     "metadata": {},
     "output_type": "execute_result"
    }
   ],
   "source": [
    "train_0 = pd.read_csv('data/ML5G-PS-005_train_0.csv', index_col=0, header=0)\n",
    "train_1 = pd.read_csv('data/ML5G-PS-005_train_1.csv', index_col=0, header=0)\n",
    "train_2 = pd.read_csv('data/ML5G-PS-005_train_2.csv', index_col=0, header=0)\n",
    "train_3 = pd.read_csv('data/ML5G-PS-005_train_3.csv', index_col=0, header=0)\n",
    "train_4 = pd.read_csv('data/ML5G-PS-005_train_4.csv', index_col=0, header=0)\n",
    "train_5 = pd.read_csv('data/ML5G-PS-005_train_5.csv', index_col=0, header=0)\n",
    "train_data = pd.concat([train_0, train_1, train_2, train_3, train_4, train_5])\n",
    "del train_0, train_1, train_2, train_3, train_4, train_5\n",
    "\n",
    "test_0 = pd.read_csv('data/ML5G-PS-005_test_0.csv', index_col=0, header=0)\n",
    "test_1 = pd.read_csv('data/ML5G-PS-005_test_1.csv', index_col=0, header=0)\n",
    "test_2 = pd.read_csv('data/ML5G-PS-005_test_2.csv', index_col=0, header=0)\n",
    "test_data = pd.concat([test_0, test_1, test_2])\n",
    "del test_0, test_1, test_2\n",
    "gc.collect()"
   ]
  },
  {
   "cell_type": "markdown",
   "metadata": {},
   "source": [
    "# Preprocess"
   ]
  },
  {
   "cell_type": "code",
   "execution_count": 3,
   "metadata": {},
   "outputs": [],
   "source": [
    "preprocessor = Processor(train_data, test_data)"
   ]
  },
  {
   "cell_type": "code",
   "execution_count": 5,
   "metadata": {},
   "outputs": [],
   "source": [
    "X, Y, test_X, test_Y = preprocessor.get_scaled_data()\n",
    "test_labels = preprocessor.test_label.values"
   ]
  },
  {
   "cell_type": "markdown",
   "metadata": {},
   "source": [
    "# Train"
   ]
  },
  {
   "cell_type": "code",
   "execution_count": 6,
   "metadata": {},
   "outputs": [],
   "source": [
    "import tensorflow as tf\n",
    "from tensorflow.keras.layers import Input, Dense, LSTM, Dropout\n",
    "from tensorflow.keras.models import Model\n",
    "from tensorflow.keras.optimizers import Adam"
   ]
  },
  {
   "cell_type": "code",
   "execution_count": 7,
   "metadata": {},
   "outputs": [],
   "source": [
    "timesteps = 15\n",
    "delay = 45\n",
    "batch_size = 64\n",
    "input_dim = X.shape[-1]"
   ]
  },
  {
   "cell_type": "code",
   "execution_count": 8,
   "metadata": {},
   "outputs": [
    {
     "name": "stderr",
     "output_type": "stream",
     "text": [
      "2022-11-22 06:36:02.665519: W tensorflow/stream_executor/platform/default/dso_loader.cc:64] Could not load dynamic library 'libcuda.so.1'; dlerror: libcuda.so.1: cannot open shared object file: No such file or directory\n",
      "2022-11-22 06:36:02.665542: W tensorflow/stream_executor/cuda/cuda_driver.cc:269] failed call to cuInit: UNKNOWN ERROR (303)\n",
      "2022-11-22 06:36:02.665556: I tensorflow/stream_executor/cuda/cuda_diagnostics.cc:156] kernel driver does not appear to be running on this host (hakiitakeru-XPS-13-9305): /proc/driver/nvidia/version does not exist\n",
      "2022-11-22 06:36:02.665811: I tensorflow/core/platform/cpu_feature_guard.cc:193] This TensorFlow binary is optimized with oneAPI Deep Neural Network Library (oneDNN) to use the following CPU instructions in performance-critical operations:  AVX2 AVX512F AVX512_VNNI FMA\n",
      "To enable them in other operations, rebuild TensorFlow with the appropriate compiler flags.\n"
     ]
    },
    {
     "name": "stdout",
     "output_type": "stream",
     "text": [
      "Model: \"model\"\n",
      "_________________________________________________________________\n",
      " Layer (type)                Output Shape              Param #   \n",
      "=================================================================\n",
      " input_1 (InputLayer)        [(None, 15, 3325)]        0         \n",
      "                                                                 \n",
      " lstm (LSTM)                 (None, 15, 256)           3667968   \n",
      "                                                                 \n",
      " lstm_1 (LSTM)               (None, 256)               525312    \n",
      "                                                                 \n",
      " dropout (Dropout)           (None, 256)               0         \n",
      "                                                                 \n",
      " dense (Dense)               (None, 1)                 257       \n",
      "                                                                 \n",
      "=================================================================\n",
      "Total params: 4,193,537\n",
      "Trainable params: 4,193,537\n",
      "Non-trainable params: 0\n",
      "_________________________________________________________________\n"
     ]
    }
   ],
   "source": [
    "input = Input(shape=(timesteps, input_dim))\n",
    "lstm = LSTM(256, input_shape=(timesteps, input_dim), return_sequences=True)(input)\n",
    "lstm = LSTM(256)(lstm)\n",
    "dropout = Dropout(0.5)(lstm)\n",
    "dense = Dense(1)(dropout)\n",
    "model = Model(inputs=input, outputs=dense)\n",
    "model.compile(loss='mean_squared_error', optimizer='adam')\n",
    "model.summary()"
   ]
  },
  {
   "cell_type": "code",
   "execution_count": 9,
   "metadata": {},
   "outputs": [],
   "source": [
    "train_X = X[:500*70]\n",
    "train_Y = Y[:500*70]\n",
    "val_X = X[500*70:]\n",
    "val_Y = Y[500*70:]"
   ]
  },
  {
   "cell_type": "code",
   "execution_count": 10,
   "metadata": {},
   "outputs": [],
   "source": [
    "train_generator = ReccurentTrainingGenerator(train_X, train_Y, batch_size, timesteps, delay)\n",
    "val_generator = ReccurentTrainingGenerator(val_X, val_Y, batch_size, timesteps, delay)"
   ]
  },
  {
   "cell_type": "code",
   "execution_count": 11,
   "metadata": {},
   "outputs": [],
   "source": [
    "callback = tf.keras.callbacks.EarlyStopping(monitor='val_loss', patience=3)"
   ]
  },
  {
   "cell_type": "code",
   "execution_count": 12,
   "metadata": {},
   "outputs": [
    {
     "name": "stdout",
     "output_type": "stream",
     "text": [
      "Epoch 1/20\n",
      "79/79 [==============================] - 11s 109ms/step - loss: 0.2127 - val_loss: 0.0088\n",
      "Epoch 2/20\n",
      "79/79 [==============================] - 8s 102ms/step - loss: 0.0146 - val_loss: 0.0028\n",
      "Epoch 3/20\n",
      "79/79 [==============================] - 8s 99ms/step - loss: 0.0074 - val_loss: 0.0023\n",
      "Epoch 4/20\n",
      "79/79 [==============================] - 8s 99ms/step - loss: 0.0055 - val_loss: 0.0026\n",
      "Epoch 5/20\n",
      "79/79 [==============================] - 8s 99ms/step - loss: 0.0044 - val_loss: 0.0021\n",
      "Epoch 6/20\n",
      "79/79 [==============================] - 8s 103ms/step - loss: 0.0041 - val_loss: 0.0019\n",
      "Epoch 7/20\n",
      "79/79 [==============================] - 8s 105ms/step - loss: 0.0036 - val_loss: 0.0021\n",
      "Epoch 8/20\n",
      "79/79 [==============================] - 8s 103ms/step - loss: 0.0036 - val_loss: 0.0021\n",
      "Epoch 9/20\n",
      "79/79 [==============================] - 8s 102ms/step - loss: 0.0039 - val_loss: 0.0020\n"
     ]
    }
   ],
   "source": [
    "history = model.fit(x=train_generator, epochs=20, verbose=1, callbacks=callback, validation_data=val_generator)"
   ]
  },
  {
   "cell_type": "markdown",
   "metadata": {},
   "source": [
    "# Evaluation"
   ]
  },
  {
   "cell_type": "code",
   "execution_count": 13,
   "metadata": {},
   "outputs": [],
   "source": [
    "from tools.metrics import Evaluation"
   ]
  },
  {
   "cell_type": "code",
   "execution_count": 14,
   "metadata": {},
   "outputs": [],
   "source": [
    "test_generator = ReccurentTestGenerator(test_X, batch_size, timesteps, delay)"
   ]
  },
  {
   "cell_type": "code",
   "execution_count": 15,
   "metadata": {},
   "outputs": [
    {
     "name": "stdout",
     "output_type": "stream",
     "text": [
      "47/47 [==============================] - 2s 39ms/step\n"
     ]
    }
   ],
   "source": [
    "pred = model.predict(test_generator)\n",
    "pred = pred.reshape(300, -1)"
   ]
  },
  {
   "cell_type": "code",
   "execution_count": 18,
   "metadata": {},
   "outputs": [],
   "source": [
    "test_Y = test_Y.values.reshape(300, -1)"
   ]
  },
  {
   "cell_type": "code",
   "execution_count": 19,
   "metadata": {},
   "outputs": [],
   "source": [
    "evaluation = Evaluation(pred, test_Y, test_labels, timesteps, delay, threshold=0.3)"
   ]
  },
  {
   "cell_type": "code",
   "execution_count": 20,
   "metadata": {},
   "outputs": [
    {
     "data": {
      "text/plain": [
       "0.002904193962487335"
      ]
     },
     "execution_count": 20,
     "metadata": {},
     "output_type": "execute_result"
    }
   ],
   "source": [
    "evaluation.MSE()"
   ]
  },
  {
   "cell_type": "code",
   "execution_count": 21,
   "metadata": {},
   "outputs": [
    {
     "name": "stdout",
     "output_type": "stream",
     "text": [
      "[[225   0]\n",
      " [ 17  58]]\n",
      "              precision    recall  f1-score   support\n",
      "\n",
      "           0       0.93      1.00      0.96       225\n",
      "           1       1.00      0.77      0.87        75\n",
      "\n",
      "    accuracy                           0.94       300\n",
      "   macro avg       0.96      0.89      0.92       300\n",
      "weighted avg       0.95      0.94      0.94       300\n",
      "\n"
     ]
    }
   ],
   "source": [
    "evaluation.score()"
   ]
  },
  {
   "cell_type": "code",
   "execution_count": 22,
   "metadata": {},
   "outputs": [
    {
     "data": {
      "image/png": "[encoded data removed]",
      "text/plain": [
       "<Figure size 1500x600 with 1 Axes>"
      ]
     },
     "metadata": {},
     "output_type": "display_data"
    }
   ],
   "source": [
    "evaluation.visualization()"
   ]
  },
  {
   "cell_type": "markdown",
   "metadata": {},
   "source": [
    "# Remove 0 metrics"
   ]
  },
  {
   "cell_type": "code",
   "execution_count": 23,
   "metadata": {},
   "outputs": [],
   "source": [
    "X, Y, test_X, test_Y = preprocessor.get_removed_data()\n",
    "test_labels = preprocessor.test_label.values"
   ]
  },
  {
   "cell_type": "code",
   "execution_count": 24,
   "metadata": {},
   "outputs": [],
   "source": [
    "timesteps = 15\n",
    "delay = 45\n",
    "batch_size = 64\n",
    "input_dim = X.shape[-1]"
   ]
  },
  {
   "cell_type": "code",
   "execution_count": 25,
   "metadata": {},
   "outputs": [
    {
     "name": "stdout",
     "output_type": "stream",
     "text": [
      "Model: \"model_1\"\n",
      "_________________________________________________________________\n",
      " Layer (type)                Output Shape              Param #   \n",
      "=================================================================\n",
      " input_2 (InputLayer)        [(None, 15, 1723)]        0         \n",
      "                                                                 \n",
      " lstm_2 (LSTM)               (None, 15, 256)           2027520   \n",
      "                                                                 \n",
      " lstm_3 (LSTM)               (None, 256)               525312    \n",
      "                                                                 \n",
      " dropout_1 (Dropout)         (None, 256)               0         \n",
      "                                                                 \n",
      " dense_1 (Dense)             (None, 1)                 257       \n",
      "                                                                 \n",
      "=================================================================\n",
      "Total params: 2,553,089\n",
      "Trainable params: 2,553,089\n",
      "Non-trainable params: 0\n",
      "_________________________________________________________________\n"
     ]
    }
   ],
   "source": [
    "input = Input(shape=(timesteps, input_dim))\n",
    "lstm = LSTM(256, input_shape=(timesteps, input_dim), return_sequences=True)(input)\n",
    "lstm = LSTM(256)(lstm)\n",
    "dropout = Dropout(0.5)(lstm)\n",
    "dense = Dense(1)(dropout)\n",
    "model_remove = Model(inputs=input, outputs=dense)\n",
    "model_remove.compile(loss='mean_squared_error', optimizer='adam')\n",
    "model_remove.summary()"
   ]
  },
  {
   "cell_type": "code",
   "execution_count": 26,
   "metadata": {},
   "outputs": [],
   "source": [
    "train_X = X[:500*70]\n",
    "train_Y = Y[:500*70]\n",
    "val_X = X[500*70:]\n",
    "val_Y = Y[500*70:]"
   ]
  },
  {
   "cell_type": "code",
   "execution_count": 27,
   "metadata": {},
   "outputs": [],
   "source": [
    "train_generator = ReccurentTrainingGenerator(train_X, train_Y, batch_size, timesteps, delay)\n",
    "val_generator = ReccurentTrainingGenerator(val_X, val_Y, batch_size, timesteps, delay)"
   ]
  },
  {
   "cell_type": "code",
   "execution_count": 28,
   "metadata": {},
   "outputs": [],
   "source": [
    "callback = tf.keras.callbacks.EarlyStopping(monitor='val_loss', patience=3)"
   ]
  },
  {
   "cell_type": "code",
   "execution_count": 30,
   "metadata": {},
   "outputs": [
    {
     "name": "stdout",
     "output_type": "stream",
     "text": [
      "Epoch 1/20\n",
      "79/79 [==============================] - 8s 75ms/step - loss: 0.2144 - val_loss: 0.0120\n",
      "Epoch 2/20\n",
      "79/79 [==============================] - 5s 69ms/step - loss: 0.0152 - val_loss: 0.0034\n",
      "Epoch 3/20\n",
      "79/79 [==============================] - 5s 69ms/step - loss: 0.0080 - val_loss: 0.0029\n",
      "Epoch 4/20\n",
      "79/79 [==============================] - 5s 69ms/step - loss: 0.0065 - val_loss: 0.0024\n",
      "Epoch 5/20\n",
      "79/79 [==============================] - 6s 70ms/step - loss: 0.0053 - val_loss: 0.0022\n",
      "Epoch 6/20\n",
      "79/79 [==============================] - 6s 69ms/step - loss: 0.0044 - val_loss: 0.0026\n",
      "Epoch 7/20\n",
      "79/79 [==============================] - 6s 72ms/step - loss: 0.0042 - val_loss: 0.0024\n",
      "Epoch 8/20\n",
      "79/79 [==============================] - 6s 70ms/step - loss: 0.0039 - val_loss: 0.0021\n",
      "Epoch 9/20\n",
      "79/79 [==============================] - 6s 74ms/step - loss: 0.0036 - val_loss: 0.0025\n",
      "Epoch 10/20\n",
      "79/79 [==============================] - 6s 80ms/step - loss: 0.0033 - val_loss: 0.0025\n",
      "Epoch 11/20\n",
      "79/79 [==============================] - 6s 78ms/step - loss: 0.0032 - val_loss: 0.0024\n"
     ]
    }
   ],
   "source": [
    "history = model_remove.fit(x=train_generator, epochs=20, verbose=1, callbacks=callback, validation_data=val_generator)"
   ]
  },
  {
   "cell_type": "code",
   "execution_count": 31,
   "metadata": {},
   "outputs": [],
   "source": [
    "test_generator = ReccurentTestGenerator(test_X, batch_size, timesteps, delay)"
   ]
  },
  {
   "cell_type": "code",
   "execution_count": 32,
   "metadata": {},
   "outputs": [
    {
     "name": "stdout",
     "output_type": "stream",
     "text": [
      "47/47 [==============================] - 2s 30ms/step\n"
     ]
    }
   ],
   "source": [
    "pred = model_remove.predict(test_generator)\n",
    "pred = pred.reshape(300, -1)"
   ]
  },
  {
   "cell_type": "code",
   "execution_count": 33,
   "metadata": {},
   "outputs": [],
   "source": [
    "test_Y = test_Y.values.reshape(300, -1)"
   ]
  },
  {
   "cell_type": "code",
   "execution_count": 35,
   "metadata": {},
   "outputs": [],
   "source": [
    "evaluation = Evaluation(pred, test_Y, test_labels, timesteps, delay, threshold=0.3)"
   ]
  },
  {
   "cell_type": "code",
   "execution_count": 36,
   "metadata": {},
   "outputs": [
    {
     "data": {
      "text/plain": [
       "0.0029564547790372083"
      ]
     },
     "execution_count": 36,
     "metadata": {},
     "output_type": "execute_result"
    }
   ],
   "source": [
    "evaluation.MSE()"
   ]
  },
  {
   "cell_type": "code",
   "execution_count": 37,
   "metadata": {},
   "outputs": [
    {
     "name": "stdout",
     "output_type": "stream",
     "text": [
      "[[225   0]\n",
      " [ 14  61]]\n",
      "              precision    recall  f1-score   support\n",
      "\n",
      "           0       0.94      1.00      0.97       225\n",
      "           1       1.00      0.81      0.90        75\n",
      "\n",
      "    accuracy                           0.95       300\n",
      "   macro avg       0.97      0.91      0.93       300\n",
      "weighted avg       0.96      0.95      0.95       300\n",
      "\n"
     ]
    }
   ],
   "source": [
    "evaluation.score()"
   ]
  },
  {
   "cell_type": "code",
   "execution_count": 38,
   "metadata": {},
   "outputs": [],
   "source": [
    "X, Y, test_X, test_Y = preprocessor.get_diff_data()"
   ]
  },
  {
   "cell_type": "code",
   "execution_count": 39,
   "metadata": {},
   "outputs": [
    {
     "data": {
      "text/plain": [
       "(42000, 329)"
      ]
     },
     "execution_count": 39,
     "metadata": {},
     "output_type": "execute_result"
    },
    {
     "ename": "",
     "evalue": "",
     "output_type": "error",
     "traceback": [
      "\u001b[1;31m現在のセルまたは前のセルでコードを実行中に、カーネルがクラッシュしました。エラーの原因を特定するには、セル内のコードを確認してください。詳細については、<a href='https://aka.ms/vscodeJupyterKernelCrash'>こちら</a> をクリックしてください。さらなる詳細については、Jupyter [log] (command:jupyter.viewOutput) を参照してください。"
     ]
    }
   ],
   "source": [
    "X.shape"
   ]
  },
  {
   "cell_type": "code",
   "execution_count": null,
   "metadata": {},
   "outputs": [],
   "source": []
  }
 ],
 "metadata": {
  "kernelspec": {
   "display_name": "Python 3.8.10 ('ITU')",
   "language": "python",
   "name": "python3"
  },
  "language_info": {
   "codemirror_mode": {
    "name": "ipython",
    "version": 3
   },
   "file_extension": ".py",
   "mimetype": "text/x-python",
   "name": "python",
   "nbconvert_exporter": "python",
   "pygments_lexer": "ipython3",
   "version": "3.8.10"
  },
  "orig_nbformat": 4,
  "vscode": {
   "interpreter": {
    "hash": "1e6dd19b877841141df6ff1305662f41162255f8a8bd691184ad9e1651f69c62"
   }
  }
 },
 "nbformat": 4,
 "nbformat_minor": 2
}
